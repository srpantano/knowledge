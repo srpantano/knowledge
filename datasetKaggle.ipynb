{
  "nbformat": 4,
  "nbformat_minor": 0,
  "metadata": {
    "colab": {
      "name": "datasetKaggle.ipynb",
      "version": "0.3.2",
      "provenance": [],
      "collapsed_sections": [],
      "include_colab_link": true
    },
    "kernelspec": {
      "name": "python3",
      "display_name": "Python 3"
    }
  },
  "cells": [
    {
      "cell_type": "markdown",
      "metadata": {
        "id": "view-in-github",
        "colab_type": "text"
      },
      "source": [
        "<a href=\"https://colab.research.google.com/github/srpantano/knowledge/blob/master/datasetKaggle.ipynb\" target=\"_parent\"><img src=\"https://colab.research.google.com/assets/colab-badge.svg\" alt=\"Open In Colab\"/></a>"
      ]
    },
    {
      "cell_type": "code",
      "metadata": {
        "id": "_WjXlASTerVz",
        "colab_type": "code",
        "colab": {}
      },
      "source": [
        "!pip install -q kaggle"
      ],
      "execution_count": 0,
      "outputs": []
    },
    {
      "cell_type": "code",
      "metadata": {
        "id": "gPqPQTehe2Zw",
        "colab_type": "code",
        "colab": {}
      },
      "source": [
        "!mkdir -p ~/.kaggle\n",
        "!cp kaggle.json ~/.kaggle"
      ],
      "execution_count": 0,
      "outputs": []
    },
    {
      "cell_type": "code",
      "metadata": {
        "id": "0emuCInyfHBD",
        "colab_type": "code",
        "colab": {}
      },
      "source": [
        "!chmod 600 ~/.kaggle/kaggle.json"
      ],
      "execution_count": 0,
      "outputs": []
    },
    {
      "cell_type": "code",
      "metadata": {
        "id": "KQwdSjJZfQFc",
        "colab_type": "code",
        "outputId": "898205a7-5076-44c4-ef31-909b9f72c308",
        "colab": {
          "base_uri": "https://localhost:8080/",
          "height": 391
        }
      },
      "source": [
        "!kaggle datasets list -s intel #Exibe os datasets que contém 'intel'"
      ],
      "execution_count": 4,
      "outputs": [
        {
          "output_type": "stream",
          "text": [
            "ref                                               title                                               size  lastUpdated          downloadCount  \n",
            "------------------------------------------------  -------------------------------------------------  -----  -------------------  -------------  \n",
            "puneet6060/intel-image-classification             Intel Image Classification                         344MB  2019-01-30 09:22:58           4491  \n",
            "zusmani/pakistanintellectualcapitalcs             Pakistan Intellectual Capital                       60KB  2017-12-25 11:46:02            158  \n",
            "bwolfram/intel-cpus                               Intel CPUs                                           2KB  2018-10-28 22:44:19             76  \n",
            "bigquery/usitc-investigations                     Intellectual Property Investigations by the USITC    5MB  2019-02-12 00:37:48              0  \n",
            "dipam7/intel-data-scene                           intel_data_scene                                   470MB  2019-02-16 05:58:33            108  \n",
            "miniushkin/intel-xeon-scalable-processors         Intel Xeon Scalable Processors                      12KB  2017-11-02 08:17:20             93  \n",
            "bwolfram/amd-vs-intel                             AMD vs Intel                                        679B  2018-11-04 06:26:35             53  \n",
            "anhduc720/intelml101class1                        Intel ML 501 Data                                   25MB  2018-08-22 03:28:16             40  \n",
            "ntnu-testimon/paysim1                             Synthetic Financial Datasets For Fraud Detection   182MB  2017-04-03 08:40:34          21173  \n",
            "iliassekkaf/computerparts                         Computer Parts (CPUs and GPUs)                     139KB  2017-09-30 13:38:40           2821  \n",
            "raczeq/ethereum-effect-pc-parts                   Ethereum Effect impact on PC parts prices           69MB  2018-06-08 12:36:07            520  \n",
            "muxiong/artificial-intelligence-and-unemployment  artificial intelligence and unemployment             2MB  2019-04-02 07:57:42             24  \n",
            "imajor/artificial-intelligence-anual-report       Artificial Intelligence Anual Report                 7MB  2017-12-02 22:26:21             99  \n",
            "apoorvwatsky/bangalore-accident-data              bangalore_accident_data                              3MB  2018-08-24 12:06:03            169  \n",
            "daytrader/ema-65-crossover                        EMA 65 Crossover                                   443MB  2018-05-09 21:04:48            101  \n",
            "laurae2/data-scientists-vs-size-of-datasets       Data Scientists vs Size of Datasets                  1KB  2016-10-18 10:54:35             70  \n",
            "avnishnish/jetbrains-python-survey-2017           JetBrains Developer Survey 2017 & 2018               7MB  2018-11-15 06:10:54            316  \n",
            "nepuerto/the-small-norb-dataset-v10               THE small NORB DATASET, V1.0                       256MB  2018-01-04 15:50:09            141  \n",
            "quannguyen135/python-developers-survery-2017      Python Developers Survery 2017                     758KB  2018-03-31 14:17:30             78  \n",
            "secsilm/python-survey-2017                        Python survey 2017                                   1MB  2018-05-02 01:47:19             34  \n"
          ],
          "name": "stdout"
        }
      ]
    },
    {
      "cell_type": "code",
      "metadata": {
        "id": "8MdQCCr9fxGo",
        "colab_type": "code",
        "outputId": "f65fe6f3-779f-44fb-d8ec-4bd06d4f1754",
        "colab": {
          "base_uri": "https://localhost:8080/",
          "height": 34
        }
      },
      "source": [
        "!kaggle datasets download -d puneet6060/intel-image-classification"
      ],
      "execution_count": 5,
      "outputs": [
        {
          "output_type": "stream",
          "text": [
            "intel-image-classification.zip: Skipping, found more recently modified local copy (use --force to force download)\n"
          ],
          "name": "stdout"
        }
      ]
    },
    {
      "cell_type": "code",
      "metadata": {
        "id": "5gg6nT4TimgD",
        "colab_type": "code",
        "colab": {}
      },
      "source": [
        "import zipfile\n",
        "\n",
        "file = zipfile.ZipFile('intel-image-classification.zip', 'r') "
      ],
      "execution_count": 0,
      "outputs": []
    },
    {
      "cell_type": "code",
      "metadata": {
        "id": "9sxjsGC8iuS7",
        "colab_type": "code",
        "outputId": "98e8f006-3e0c-413b-b69a-1e69bee757c7",
        "colab": {
          "base_uri": "https://localhost:8080/",
          "height": 68
        }
      },
      "source": [
        "file.infolist()"
      ],
      "execution_count": 7,
      "outputs": [
        {
          "output_type": "execute_result",
          "data": {
            "text/plain": [
              "[<ZipInfo filename='seg_train.zip' compress_type=deflate file_size=208832464 compress_size=208058575>,\n",
              " <ZipInfo filename='seg_test.zip' compress_type=deflate file_size=44515455 compress_size=44354297>,\n",
              " <ZipInfo filename='seg_pred.zip' compress_type=deflate file_size=108365415 compress_size=108046627>]"
            ]
          },
          "metadata": {
            "tags": []
          },
          "execution_count": 7
        }
      ]
    },
    {
      "cell_type": "code",
      "metadata": {
        "id": "xMXXsFI5j2iP",
        "colab_type": "code",
        "colab": {}
      },
      "source": [
        "filetrain = file.extract('seg_train.zip')"
      ],
      "execution_count": 0,
      "outputs": []
    },
    {
      "cell_type": "code",
      "metadata": {
        "id": "wMEXSmbBkEAB",
        "colab_type": "code",
        "colab": {}
      },
      "source": [
        "segtrain = zipfile.ZipFile(filetrain, 'r')\n",
        "segtrain.extractall()"
      ],
      "execution_count": 0,
      "outputs": []
    }
  ]
}