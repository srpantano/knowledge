{
  "nbformat": 4,
  "nbformat_minor": 0,
  "metadata": {
    "colab": {
      "name": "WhatsAppReader.ipynb",
      "provenance": [],
      "collapsed_sections": [],
      "authorship_tag": "ABX9TyM/jrfwVwnZJz/GWnKqTneA",
      "include_colab_link": true
    },
    "kernelspec": {
      "name": "python3",
      "display_name": "Python 3"
    }
  },
  "cells": [
    {
      "cell_type": "markdown",
      "metadata": {
        "id": "view-in-github",
        "colab_type": "text"
      },
      "source": [
        "<a href=\"https://colab.research.google.com/github/srpantano/knowledge/blob/master/WhatsAppReader.ipynb\" target=\"_parent\"><img src=\"https://colab.research.google.com/assets/colab-badge.svg\" alt=\"Open In Colab\"/></a>"
      ]
    },
    {
      "cell_type": "markdown",
      "metadata": {
        "id": "mm3ZLS9kfX2U",
        "colab_type": "text"
      },
      "source": [
        "#Bibliotecas"
      ]
    },
    {
      "cell_type": "code",
      "metadata": {
        "id": "1tY43zBMePUq",
        "colab_type": "code",
        "colab": {}
      },
      "source": [
        "from time import sleep\n",
        "from bs4 import BeautifulSoup as bs\n",
        "from selenium import webdriver\n",
        "#from selenium.common.exceptions import NoSuchElementException\n",
        "import pyautogui\n",
        "import uuid"
      ],
      "execution_count": 0,
      "outputs": []
    },
    {
      "cell_type": "markdown",
      "metadata": {
        "id": "19EsbKnrfpwn",
        "colab_type": "text"
      },
      "source": [
        "Pressiona a tecla 'Up' no teclado"
      ]
    },
    {
      "cell_type": "code",
      "metadata": {
        "id": "7Hmk6zF1fqod",
        "colab_type": "code",
        "colab": {}
      },
      "source": [
        "def scrollUp():\n",
        "    pyautogui.press('up')\n",
        "    sleep(1)"
      ],
      "execution_count": 0,
      "outputs": []
    },
    {
      "cell_type": "code",
      "metadata": {
        "id": "eAmWTNjbf82n",
        "colab_type": "code",
        "colab": {}
      },
      "source": [
        "while True:\n",
        "    \n",
        "    div_unreads = driver.find_elements_by_class_name('CxUIE') #Contatos Não lidos \n",
        "   #div_unreads = driver.find_elements_by_class_name('_2EXPL') #Todos os contados\n",
        "\n",
        "    #DIVs não lidas\n",
        "    for unread in div_unreads:\n",
        "        message_name = unread.find_element_by_class_name('_3TEwt').find_element_by_tag_name('span').text       \n",
        "        \n",
        "        unread.click()\n",
        "        sleep(3) \n",
        "\n",
        "\n",
        "        div_all_messages_in = driver.find_elements_by_class_name('message-in')\n",
        "        \n",
        "        texts = {}\n",
        "        \n",
        "        for message_in in div_all_messages_in:            \n",
        "            div_messages_outer = message_in.find_elements_by_class_name('Tkt2p')\n",
        "            \n",
        "            if len(div_messages_outer) <= 0:\n",
        "                div_messages_outer = message_in.find_elements_by_class_name('_2F4Rh')\n",
        "            \n",
        "            for div_message in div_messages_outer:\n",
        "            \n",
        "                html = div_message.get_attribute('innerHTML')\n",
        "            \n",
        "                soup = bs(html, \"html.parser\")\n",
        "                outer_div = soup.find('div', {'class': '_3zb-j'})\n",
        "                \n",
        "                if outer_div != None:\n",
        "                \n",
        "                    selected_span = outer_div.find('span', {'class': 'selectable-text'})\n",
        "                               \n",
        "                    if selected_span != None:\n",
        "           \n",
        "                        text = selected_span.find('span').get_text()\n",
        "                    \n",
        "                        hour = soup.find('div', {'class': '_1DZAH'}).find('span', {'class': '_3EFt_'}).get_text()\n",
        "                    \n",
        "                        if texts.get(hour) != None:                    \n",
        "                            text = texts.get(hour) + ' ' + text\n",
        "\n",
        "                        texts[hour] = text\n",
        "     \n",
        "        #Gera um identificador único, tipo 4 é aleatório\n",
        "        messageId = uuid.uuid4()\n",
        "        #Id da mensagem: 8 últimas posições do identificador hexadecimal ':' nome do contato\n",
        "        messageId = messageId.hex[:8] + ':'+ message_name\n",
        "        messages[messageId] = texts"
      ],
      "execution_count": 0,
      "outputs": []
    }
  ]
}