{
  "nbformat": 4,
  "nbformat_minor": 0,
  "metadata": {
    "colab": {
      "name": "Regressão Linear.ipynb",
      "provenance": [],
      "authorship_tag": "ABX9TyMirzJdekSkIXINdACrHTsI",
      "include_colab_link": true
    },
    "kernelspec": {
      "name": "python3",
      "display_name": "Python 3"
    }
  },
  "cells": [
    {
      "cell_type": "markdown",
      "metadata": {
        "id": "view-in-github",
        "colab_type": "text"
      },
      "source": [
        "<a href=\"https://colab.research.google.com/github/srpantano/knowledge/blob/master/Regress%C3%A3o_Linear.ipynb\" target=\"_parent\"><img src=\"https://colab.research.google.com/assets/colab-badge.svg\" alt=\"Open In Colab\"/></a>"
      ]
    },
    {
      "cell_type": "code",
      "metadata": {
        "id": "FZ9YGsAWgEwG",
        "colab_type": "code",
        "colab": {}
      },
      "source": [
        "import numpy as np\n",
        "from sklearn import datasets, linear_model\n",
        "import matplotlib.pyplot as plt\n",
        "from sklearn.metrics import mean_squared_error, r2_score"
      ],
      "execution_count": 0,
      "outputs": []
    },
    {
      "cell_type": "code",
      "metadata": {
        "id": "M4PvxYBDglCI",
        "colab_type": "code",
        "colab": {
          "base_uri": "https://localhost:8080/",
          "height": 268
        },
        "outputId": "52c1c7fa-84c7-448d-9e33-5844734f2637"
      },
      "source": [
        "prod = np.array([877.952, 1125.295, 1317.822, 2420.78, 2625.742, 2686.193, 2916.534, \n",
        "                 3219.187, 3386.42, 3375.228, 3518.441, 3552.19, 3617.581, 3618.559])\n",
        "\n",
        "cons = np.array([604.685, 682.931, 957.309, 1625.642, 2446.6, 1745.406, 2445.433, \n",
        "                 2898.25, 1875.934, 2157.475, 2394.205, 2060.597, 2096.973, 2419.206])\n",
        "\n",
        "plt.scatter(prod, cons, color='black')\n",
        "\n",
        "plt.show()"
      ],
      "execution_count": 6,
      "outputs": [
        {
          "output_type": "display_data",
          "data": {
            "image/png": "[encoded data removed]",
            "text/plain": [
              "<Figure size 432x288 with 1 Axes>"
            ]
          },
          "metadata": {
            "tags": [],
            "needs_background": "light"
          }
        }
      ]
    },
    {
      "cell_type": "code",
      "metadata": {
        "id": "naavqjWArLyj",
        "colab_type": "code",
        "colab": {
          "base_uri": "https://localhost:8080/",
          "height": 336
        },
        "outputId": "0d3c7001-6b05-4e9b-ca5a-f09b1c0726b3"
      },
      "source": [
        "prod = np.array([877.952, 1125.295, 1317.822, 2420.78, 2625.742, 2686.193, 2916.534, \n",
        "                 3219.187, 3386.42, 3375.228, 3518.441, 3552.19, 3617.581, 3618.559])\n",
        "\n",
        "cons = np.array([604.685, 682.931, 957.309, 1625.642, 2446.6, 1745.406, 2445.433, \n",
        "                 2898.25, 1875.934, 2157.475, 2394.205, 2060.597, 2096.973, 2419.206])\n",
        "regr = linear_model.LinearRegression()\n",
        "regr.fit(prod.reshape(-1, 1), cons) #Necessita de um array 2D\n",
        "y = regr.predict(prod.reshape(-1, 1))\n",
        "\n",
        "print('Coefficients: \\n', regr.coef_)\n",
        "print('Intercept: \\n', regr.intercept_)\n",
        "\n",
        "plt.scatter(prod, cons, color='black')\n",
        "plt.plot(prod, y, color='blue', linewidth=3)\n",
        "\n",
        "plt.show()"
      ],
      "execution_count": 11,
      "outputs": [
        {
          "output_type": "stream",
          "text": [
            "Coefficients: \n",
            " [0.62927008]\n",
            "Intercept: \n",
            " 166.86278407063082\n"
          ],
          "name": "stdout"
        },
        {
          "output_type": "display_data",
          "data": {
            "image/png": "[encoded data removed]",
            "text/plain": [
              "<Figure size 432x288 with 1 Axes>"
            ]
          },
          "metadata": {
            "tags": [],
            "needs_background": "light"
          }
        }
      ]
    }
  ]
}